{
 "cells": [
  {
   "cell_type": "code",
   "execution_count": 4,
   "metadata": {},
   "outputs": [],
   "source": [
    "from boto3 import session"
   ]
  },
  {
   "cell_type": "code",
   "execution_count": 5,
   "metadata": {},
   "outputs": [
    {
     "data": {
      "text/plain": [
       "True"
      ]
     },
     "execution_count": 5,
     "metadata": {},
     "output_type": "execute_result"
    }
   ],
   "source": [
    "# load env vars from .env\n",
    "from dotenv import load_dotenv\n",
    "load_dotenv()"
   ]
  },
  {
   "cell_type": "code",
   "execution_count": 6,
   "metadata": {},
   "outputs": [
    {
     "name": "stdout",
     "output_type": "stream",
     "text": [
      "large_video_45degree.mp4\n",
      "large_video_90degree.mp4\n",
      "small_image.jpg\n",
      "small_video.mp4\n"
     ]
    }
   ],
   "source": [
    "# Initiate session\n",
    "session = session.Session()\n",
    "client = session.client('s3',\n",
    "                        region_name='eu-central-1')\n",
    "\n",
    "# List all objects in a bucket\n",
    "response = client.list_objects(Bucket='studierendenprojekt-tha-waldinventur')\n",
    "for content in response['Contents']:\n",
    "    print(content['Key'])"
   ]
  },
  {
   "cell_type": "code",
   "execution_count": 8,
   "metadata": {},
   "outputs": [],
   "source": [
    "# Upload a file to your Space\n",
    "client.download_file('studierendenprojekt-tha-waldinventur','small_image.jpg', 'small_image.jpg')"
   ]
  }
 ],
 "metadata": {
  "kernelspec": {
   "display_name": ".venv",
   "language": "python",
   "name": "python3"
  },
  "language_info": {
   "codemirror_mode": {
    "name": "ipython",
    "version": 3
   },
   "file_extension": ".py",
   "mimetype": "text/x-python",
   "name": "python",
   "nbconvert_exporter": "python",
   "pygments_lexer": "ipython3",
   "version": "3.12.1"
  }
 },
 "nbformat": 4,
 "nbformat_minor": 2
}
